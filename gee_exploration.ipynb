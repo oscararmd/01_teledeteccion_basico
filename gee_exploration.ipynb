{
 "cells": [
  {
   "cell_type": "markdown",
   "metadata": {},
   "source": [
    "# 1. Ejecutar el codigo desde GEE"
   ]
  },
  {
   "cell_type": "code",
   "execution_count": null,
   "metadata": {},
   "outputs": [],
   "source": [
    "// Cargar imágenes de Landsat 8 (sensor pasivo) y Sentinel-1 (sensor activo)\n",
    "var landsat = ee.ImageCollection(\"LANDSAT/LC08/C02/T1_TOA\")\n",
    "                .filterBounds(ee.Geometry.Point([-74.1, 4.6])) // Bogotá\n",
    "                .filterDate('2023-01-01', '2023-12-31')\n",
    "                .median();\n",
    "\n",
    "var sentinel1 = ee.ImageCollection(\"COPERNICUS/S1_GRD\")\n",
    "                  .filterBounds(ee.Geometry.Point([-74.1, 4.6])) \n",
    "                  .filterDate('2023-01-01', '2023-12-31')\n",
    "                  .median();\n",
    "\n",
    "// Visualización\n",
    "Map.centerObject(ee.Geometry.Point([-74.1, 4.6]), 10);\n",
    "Map.addLayer(landsat, {bands: ['B4', 'B3', 'B2'], min: 0, max: 0.3}, 'Landsat 8 (Óptico)');\n",
    "Map.addLayer(sentinel1, {min: -20, max: 0}, 'Sentinel-1 (Radar)');\n"
   ]
  }
 ],
 "metadata": {
  "language_info": {
   "name": "python"
  }
 },
 "nbformat": 4,
 "nbformat_minor": 2
}
