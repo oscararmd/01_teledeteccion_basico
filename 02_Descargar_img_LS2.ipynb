{
 "cells": [
  {
   "cell_type": "markdown",
   "metadata": {},
   "source": [
    "# 2 Descarga una iamgen LS2 de sogamoso para desplegarla en el QGIS "
   ]
  },
  {
   "cell_type": "code",
   "execution_count": null,
   "metadata": {},
   "outputs": [],
   "source": [
    "// Definir la región de interés (Sogamoso, Boyacá, Colombia)\n",
    "var sogamoso = ee.Geometry.Point([-72.9286, 5.7143]);\n",
    "\n",
    "// Filtrar la colección de imágenes Landsat 8 SR (sin filtrar por nubosidad aún)\n",
    "var landsatCollection = ee.ImageCollection(\"LANDSAT/LC08/C02/T1_L2\")\n",
    "                          .filterBounds(sogamoso) \n",
    "                          .filterDate('2022-01-01', '2024-02-01'); // Se amplía el rango de fechas\n",
    "\n",
    "// Contar imágenes disponibles\n",
    "var count = landsatCollection.size();\n",
    "print(\"Número de imágenes disponibles:\", count);\n",
    "\n",
    "// Mostrar lista de imágenes con fechas y cobertura de nubes\n",
    "var imageList = landsatCollection.map(function(image) {\n",
    "  return ee.Feature(null, {\n",
    "    'ID': image.id(),\n",
    "    'Fecha': image.date().format('YYYY-MM-dd'),\n",
    "    'Nubosidad': image.get('CLOUD_COVER')\n",
    "  });\n",
    "});\n",
    "\n",
    "print(\"Lista de imágenes encontradas:\", imageList);\n",
    "\n",
    "// Si hay imágenes disponibles, procesamos la mejor\n",
    "if (count.gt(0)) {\n",
    "  var bestImage = landsatCollection.sort('CLOUD_COVER').first(); // Tomamos la de menor nubosidad\n",
    "  print(\"Imagen seleccionada:\", bestImage);\n",
    "\n",
    "  // Seleccionar bandas de reflectancia superficial\n",
    "  var bands = ['SR_B2', 'SR_B3', 'SR_B4', 'SR_B5', 'SR_B6', 'SR_B7']; \n",
    "  var scaledImage = bestImage.select(bands).multiply(0.0000275).add(-0.2); \n",
    "\n",
    "  // Visualizar en el mapa\n",
    "  var visParams = {bands: ['SR_B4', 'SR_B3', 'SR_B2'], min: 0, max: 0.3, gamma: 1.4};\n",
    "  Map.centerObject(sogamoso, 10);\n",
    "  Map.addLayer(scaledImage, visParams, \"Landsat 8 SR - Sogamoso\");\n",
    "\n",
    "  // Exportar la imagen a Google Drive\n",
    "  Export.image.toDrive({\n",
    "    image: scaledImage,\n",
    "    description: \"Landsat8_SR_Sogamoso\",\n",
    "    folder: \"GEE_Exports\",\n",
    "    fileNamePrefix: \"Landsat8_SR_Sogamoso\",\n",
    "    region: sogamoso.buffer(5000).bounds(),\n",
    "    scale: 30,\n",
    "    maxPixels: 1e13,\n",
    "    fileFormat: \"GeoTIFF\"\n",
    "  });\n",
    "\n",
    "} else {\n",
    "  print(\"❌ No se encontraron imágenes en el período seleccionado.\");\n",
    "}\n"
   ]
  }
 ],
 "metadata": {
  "language_info": {
   "name": "python"
  }
 },
 "nbformat": 4,
 "nbformat_minor": 2
}
